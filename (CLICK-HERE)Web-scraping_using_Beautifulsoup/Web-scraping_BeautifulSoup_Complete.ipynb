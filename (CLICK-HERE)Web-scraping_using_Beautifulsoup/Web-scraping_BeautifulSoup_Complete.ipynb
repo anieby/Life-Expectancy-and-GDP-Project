{
 "cells": [
  {
   "cell_type": "markdown",
   "metadata": {},
   "source": [
    "# Webscaping with BeautifulSoup"
   ]
  },
  {
   "cell_type": "markdown",
   "metadata": {},
   "source": [
    "This project is centered around extracting data from websites using BeautifulSoup in conjunction with Python. It will demonstrate the capabilites of the BeautifulSoup function as well as show how to data clean and go into analysis after extracting data: "
   ]
  },
  {
   "cell_type": "markdown",
   "metadata": {},
   "source": [
    "This project will be focused on scraping the data from a CodeAcademy mock-website, where I will be analyzing the tags:"
   ]
  },
  {
   "cell_type": "markdown",
   "metadata": {},
   "source": [
    "Import the library for pulling the information from the website that we'd like to examine:"
   ]
  },
  {
   "cell_type": "code",
   "execution_count": 1,
   "metadata": {},
   "outputs": [],
   "source": [
    "import requests"
   ]
  },
  {
   "cell_type": "markdown",
   "metadata": {},
   "source": [
    "Finding the webpage that you would like to extract data from:"
   ]
  },
  {
   "cell_type": "code",
   "execution_count": 2,
   "metadata": {},
   "outputs": [],
   "source": [
    "webpage_response = requests.get('https://content.codecademy.com/courses/beautifulsoup/shellter.html')"
   ]
  },
  {
   "cell_type": "markdown",
   "metadata": {},
   "source": [
    "The HTML of the website we loaded for scraping:"
   ]
  },
  {
   "cell_type": "code",
   "execution_count": 3,
   "metadata": {},
   "outputs": [
    {
     "name": "stdout",
     "output_type": "stream",
     "text": [
      "<!DOCTYPE html>\n",
      "<html>\n",
      "  <head>\n",
      "    <meta charset=\"utf-8\">\n",
      "    <title>Turtle Shellter</title>\n",
      "      <link href=\"https://fonts.googleapis.com/css?family=Poppins\" rel=\"stylesheet\">\n",
      "      <link rel='stylesheet' type='text/css' href='style.css'>\n",
      "  <script async src='/cdn-cgi/bm/cv/669835187/api.js'></script></head>\n",
      "\n",
      "  <body>\n",
      "      <div class=\"banner\">\n",
      "        <h1>The Shellter</h1>\n",
      "        <span class=\"brag\">The #1 Turtle Adoption website!</span>\n",
      "      </div>\n",
      "\n",
      "      <div class=\"about\">\n",
      "        <p class=\"text\">Click to learn more about each turtle</p>\n",
      "      </div>\n",
      "\n",
      "    <div class=\"grid\">\n",
      "      <div class=\"box adopt\">\n",
      "          <a href=\"aesop.html\" class=\"more-info\"><img src=\"aesop.png\" class=\"headshot\"></a>\n",
      "          <p>Aesop</p>\n",
      "      </div>\n",
      "\n",
      "      <div class=\"box adopt\">\n",
      "          <a href=\"caesar.html\" class=\"more-info\"><img src=\"caesar.png\" class=\"headshot\"></a>\n",
      "          <p>Caesar</p>\n",
      "      </div>\n",
      "\n",
      "      <div class=\"box adopt\">\n",
      "          <a href=\"sulla.html\" class=\"more-info\"><img src=\"sulla.png\" class=\"headshot\"></a>\n",
      "          <p>Sulla</p>\n",
      "      </div>\n",
      "      <div class=\"box adopt\">\n",
      "          <a href=\"spyro.html\" class=\"more-info\"><img src=\"spyro.png\" class=\"headshot\"></a>\n",
      "          <p>Spyro</p>\n",
      "      </div>\n",
      "\n",
      "      <div class=\"box adopt\">\n",
      "          <a href=\"zelda.html\" class=\"more-info\"><img src=\"zelda.png\" class=\"headshot\"></a>\n",
      "          <p>Zelda</p>\n",
      "      </div>\n",
      "\n",
      "      <div class=\"box adopt\">\n",
      "          <a href=\"bandicoot.html\" class=\"more-info\"><img src=\"bandicoot.png\" class=\"headshot\"></a>\n",
      "          <p>Bandicoot</p>\n",
      "      </div>\n",
      "      \n",
      "      <div class=\"box adopt\">\n",
      "          <a href=\"hal.html\" class=\"more-info\"><img src=\"hal.png\" class=\"headshot\"></a>\n",
      "          <p>Hal</p>\n",
      "      </div>\n",
      "\n",
      "      <div class=\"box adopt\">\n",
      "          <a href=\"mock.html\" class=\"more-info\"><img src=\"mock.png\" class=\"headshot\"></a>\n",
      "          <p>Mock</p>\n",
      "      </div>\n",
      "\n",
      "      <div class=\"box adopt\">\n",
      "          <a href=\"sparrow.html\" class=\"more-info\"><img src=\"sparrow.png\" class=\"headshot\"></a>\n",
      "          <p>Captain Sparrow</p>\n",
      "      </div>\n",
      "    </div>\n",
      "  <script type=\"text/javascript\">(function(){window['__CF$cv$params']={r:'71f151194e569e68',m:'G0b63oj3Z.0RzMFdEpBeEVzgxMsg.CiKizV4LfEftVY-1655862455-0-AdGim3Opz2xErmCuUNUlBjlKl4mltdLv7jmrMt46jH/smYjYBrVDOvr9uCOnkZQuIbob+oeMGEAWJUprOsNd4ICXVbLLroPxafpZAYqa8+0bjNSGGJTqv+3j2BhdZeTyE6ZykM5W0Dm9GkGhe+LE72qlg3yiOO5gEKLPlpoPyQoW',s:[0x8b5ca4c425,0xacb994d00f],}})();</script></body>\n",
      "\n",
      "</html>\n",
      "\n"
     ]
    }
   ],
   "source": [
    "print(webpage_response.text)"
   ]
  },
  {
   "cell_type": "markdown",
   "metadata": {},
   "source": [
    "Getting the content out of the website:"
   ]
  },
  {
   "cell_type": "code",
   "execution_count": 4,
   "metadata": {},
   "outputs": [
    {
     "name": "stdout",
     "output_type": "stream",
     "text": [
      "b'<!DOCTYPE html>\\n<html>\\n  <head>\\n    <meta charset=\"utf-8\">\\n    <title>Turtle Shellter</title>\\n      <link href=\"https://fonts.googleapis.com/css?family=Poppins\" rel=\"stylesheet\">\\n      <link rel=\\'stylesheet\\' type=\\'text/css\\' href=\\'style.css\\'>\\n  <script async src=\\'/cdn-cgi/bm/cv/669835187/api.js\\'></script></head>\\n\\n  <body>\\n      <div class=\"banner\">\\n        <h1>The Shellter</h1>\\n        <span class=\"brag\">The #1 Turtle Adoption website!</span>\\n      </div>\\n\\n      <div class=\"about\">\\n        <p class=\"text\">Click to learn more about each turtle</p>\\n      </div>\\n\\n    <div class=\"grid\">\\n      <div class=\"box adopt\">\\n          <a href=\"aesop.html\" class=\"more-info\"><img src=\"aesop.png\" class=\"headshot\"></a>\\n          <p>Aesop</p>\\n      </div>\\n\\n      <div class=\"box adopt\">\\n          <a href=\"caesar.html\" class=\"more-info\"><img src=\"caesar.png\" class=\"headshot\"></a>\\n          <p>Caesar</p>\\n      </div>\\n\\n      <div class=\"box adopt\">\\n          <a href=\"sulla.html\" class=\"more-info\"><img src=\"sulla.png\" class=\"headshot\"></a>\\n          <p>Sulla</p>\\n      </div>\\n      <div class=\"box adopt\">\\n          <a href=\"spyro.html\" class=\"more-info\"><img src=\"spyro.png\" class=\"headshot\"></a>\\n          <p>Spyro</p>\\n      </div>\\n\\n      <div class=\"box adopt\">\\n          <a href=\"zelda.html\" class=\"more-info\"><img src=\"zelda.png\" class=\"headshot\"></a>\\n          <p>Zelda</p>\\n      </div>\\n\\n      <div class=\"box adopt\">\\n          <a href=\"bandicoot.html\" class=\"more-info\"><img src=\"bandicoot.png\" class=\"headshot\"></a>\\n          <p>Bandicoot</p>\\n      </div>\\n      \\n      <div class=\"box adopt\">\\n          <a href=\"hal.html\" class=\"more-info\"><img src=\"hal.png\" class=\"headshot\"></a>\\n          <p>Hal</p>\\n      </div>\\n\\n      <div class=\"box adopt\">\\n          <a href=\"mock.html\" class=\"more-info\"><img src=\"mock.png\" class=\"headshot\"></a>\\n          <p>Mock</p>\\n      </div>\\n\\n      <div class=\"box adopt\">\\n          <a href=\"sparrow.html\" class=\"more-info\"><img src=\"sparrow.png\" class=\"headshot\"></a>\\n          <p>Captain Sparrow</p>\\n      </div>\\n    </div>\\n  <script type=\"text/javascript\">(function(){window[\\'__CF$cv$params\\']={r:\\'71f151194e569e68\\',m:\\'G0b63oj3Z.0RzMFdEpBeEVzgxMsg.CiKizV4LfEftVY-1655862455-0-AdGim3Opz2xErmCuUNUlBjlKl4mltdLv7jmrMt46jH/smYjYBrVDOvr9uCOnkZQuIbob+oeMGEAWJUprOsNd4ICXVbLLroPxafpZAYqa8+0bjNSGGJTqv+3j2BhdZeTyE6ZykM5W0Dm9GkGhe+LE72qlg3yiOO5gEKLPlpoPyQoW\\',s:[0x8b5ca4c425,0xacb994d00f],}})();</script></body>\\n\\n</html>\\n'\n"
     ]
    }
   ],
   "source": [
    "webpage = webpage_response.content\n",
    "print(webpage)"
   ]
  },
  {
   "cell_type": "markdown",
   "metadata": {},
   "source": [
    "Import the function for Beautiful Soup, so that the web scraping can take place:"
   ]
  },
  {
   "cell_type": "code",
   "execution_count": 5,
   "metadata": {},
   "outputs": [],
   "source": [
    "from bs4 import BeautifulSoup"
   ]
  },
  {
   "cell_type": "code",
   "execution_count": 6,
   "metadata": {},
   "outputs": [],
   "source": [
    "soup = BeautifulSoup(webpage, \"html.parser\")"
   ]
  },
  {
   "cell_type": "code",
   "execution_count": 7,
   "metadata": {
    "scrolled": true
   },
   "outputs": [],
   "source": [
    "#Example that has the output: <div id=\"example\">An example div</div>\n",
    "#soup = BeautifulSoup('<div id=\"example\">An example div</div><p>An example p tag</p>')\n",
    "#print(soup.div)"
   ]
  },
  {
   "cell_type": "markdown",
   "metadata": {},
   "source": [
    "Getting the name of a tag using beautifulsoup:"
   ]
  },
  {
   "cell_type": "code",
   "execution_count": 8,
   "metadata": {},
   "outputs": [
    {
     "name": "stdout",
     "output_type": "stream",
     "text": [
      "div\n"
     ]
    }
   ],
   "source": [
    "print(soup.div.name)"
   ]
  },
  {
   "cell_type": "markdown",
   "metadata": {},
   "source": [
    "Getting an attribute from a tag in BeautifulSoup:"
   ]
  },
  {
   "cell_type": "code",
   "execution_count": 9,
   "metadata": {
    "scrolled": true
   },
   "outputs": [
    {
     "name": "stdout",
     "output_type": "stream",
     "text": [
      "{'class': ['banner']}\n"
     ]
    }
   ],
   "source": [
    "print(soup.div.attrs)"
   ]
  },
  {
   "cell_type": "markdown",
   "metadata": {},
   "source": [
    "Getting the h1 tag from the website:"
   ]
  },
  {
   "cell_type": "code",
   "execution_count": 10,
   "metadata": {},
   "outputs": [
    {
     "name": "stdout",
     "output_type": "stream",
     "text": [
      "<h1>The Shellter</h1>\n"
     ]
    }
   ],
   "source": [
    "print(soup.h1)"
   ]
  },
  {
   "cell_type": "markdown",
   "metadata": {},
   "source": [
    "Using 'find' method to get the 1st h1 tag in the website:"
   ]
  },
  {
   "cell_type": "code",
   "execution_count": 11,
   "metadata": {},
   "outputs": [
    {
     "name": "stdout",
     "output_type": "stream",
     "text": [
      "<h1>The Shellter</h1>\n"
     ]
    }
   ],
   "source": [
    "print(soup.find(\"h1\"))"
   ]
  },
  {
   "cell_type": "markdown",
   "metadata": {},
   "source": [
    "Using 'find_all' to find all the occurances of an h1 tag on the website:"
   ]
  },
  {
   "cell_type": "code",
   "execution_count": 12,
   "metadata": {},
   "outputs": [
    {
     "name": "stdout",
     "output_type": "stream",
     "text": [
      "[<h1>The Shellter</h1>]\n"
     ]
    }
   ],
   "source": [
    "print(soup.find_all(\"h1\"))"
   ]
  },
  {
   "cell_type": "markdown",
   "metadata": {},
   "source": [
    "In order to get more complex in our HTML search, we will impliment the use of the 'Regex' library:"
   ]
  },
  {
   "cell_type": "code",
   "execution_count": 13,
   "metadata": {},
   "outputs": [],
   "source": [
    "import re"
   ]
  },
  {
   "cell_type": "markdown",
   "metadata": {},
   "source": [
    "Finding all the tags that have 1-9 in the header:"
   ]
  },
  {
   "cell_type": "code",
   "execution_count": 14,
   "metadata": {},
   "outputs": [
    {
     "data": {
      "text/plain": [
       "[<h1>The Shellter</h1>]"
      ]
     },
     "execution_count": 14,
     "metadata": {},
     "output_type": "execute_result"
    }
   ],
   "source": [
    "soup.find_all(re.compile(\"h[1-9]\"))"
   ]
  },
  {
   "cell_type": "markdown",
   "metadata": {},
   "source": [
    "Finding tags that have 'h1', 'a', and 'p':"
   ]
  },
  {
   "cell_type": "code",
   "execution_count": 15,
   "metadata": {},
   "outputs": [
    {
     "data": {
      "text/plain": [
       "[<h1>The Shellter</h1>,\n",
       " <p class=\"text\">Click to learn more about each turtle</p>,\n",
       " <a class=\"more-info\" href=\"aesop.html\"><img class=\"headshot\" src=\"aesop.png\"/></a>,\n",
       " <p>Aesop</p>,\n",
       " <a class=\"more-info\" href=\"caesar.html\"><img class=\"headshot\" src=\"caesar.png\"/></a>,\n",
       " <p>Caesar</p>,\n",
       " <a class=\"more-info\" href=\"sulla.html\"><img class=\"headshot\" src=\"sulla.png\"/></a>,\n",
       " <p>Sulla</p>,\n",
       " <a class=\"more-info\" href=\"spyro.html\"><img class=\"headshot\" src=\"spyro.png\"/></a>,\n",
       " <p>Spyro</p>,\n",
       " <a class=\"more-info\" href=\"zelda.html\"><img class=\"headshot\" src=\"zelda.png\"/></a>,\n",
       " <p>Zelda</p>,\n",
       " <a class=\"more-info\" href=\"bandicoot.html\"><img class=\"headshot\" src=\"bandicoot.png\"/></a>,\n",
       " <p>Bandicoot</p>,\n",
       " <a class=\"more-info\" href=\"hal.html\"><img class=\"headshot\" src=\"hal.png\"/></a>,\n",
       " <p>Hal</p>,\n",
       " <a class=\"more-info\" href=\"mock.html\"><img class=\"headshot\" src=\"mock.png\"/></a>,\n",
       " <p>Mock</p>,\n",
       " <a class=\"more-info\" href=\"sparrow.html\"><img class=\"headshot\" src=\"sparrow.png\"/></a>,\n",
       " <p>Captain Sparrow</p>]"
      ]
     },
     "execution_count": 15,
     "metadata": {},
     "output_type": "execute_result"
    }
   ],
   "source": [
    "soup.find_all(['h1', 'a', 'p'])"
   ]
  },
  {
   "cell_type": "markdown",
   "metadata": {},
   "source": [
    "Finding tags with a certain class, 'box adopt':"
   ]
  },
  {
   "cell_type": "code",
   "execution_count": 16,
   "metadata": {},
   "outputs": [
    {
     "data": {
      "text/plain": [
       "[<div class=\"box adopt\">\n",
       " <a class=\"more-info\" href=\"aesop.html\"><img class=\"headshot\" src=\"aesop.png\"/></a>\n",
       " <p>Aesop</p>\n",
       " </div>,\n",
       " <div class=\"box adopt\">\n",
       " <a class=\"more-info\" href=\"caesar.html\"><img class=\"headshot\" src=\"caesar.png\"/></a>\n",
       " <p>Caesar</p>\n",
       " </div>,\n",
       " <div class=\"box adopt\">\n",
       " <a class=\"more-info\" href=\"sulla.html\"><img class=\"headshot\" src=\"sulla.png\"/></a>\n",
       " <p>Sulla</p>\n",
       " </div>,\n",
       " <div class=\"box adopt\">\n",
       " <a class=\"more-info\" href=\"spyro.html\"><img class=\"headshot\" src=\"spyro.png\"/></a>\n",
       " <p>Spyro</p>\n",
       " </div>,\n",
       " <div class=\"box adopt\">\n",
       " <a class=\"more-info\" href=\"zelda.html\"><img class=\"headshot\" src=\"zelda.png\"/></a>\n",
       " <p>Zelda</p>\n",
       " </div>,\n",
       " <div class=\"box adopt\">\n",
       " <a class=\"more-info\" href=\"bandicoot.html\"><img class=\"headshot\" src=\"bandicoot.png\"/></a>\n",
       " <p>Bandicoot</p>\n",
       " </div>,\n",
       " <div class=\"box adopt\">\n",
       " <a class=\"more-info\" href=\"hal.html\"><img class=\"headshot\" src=\"hal.png\"/></a>\n",
       " <p>Hal</p>\n",
       " </div>,\n",
       " <div class=\"box adopt\">\n",
       " <a class=\"more-info\" href=\"mock.html\"><img class=\"headshot\" src=\"mock.png\"/></a>\n",
       " <p>Mock</p>\n",
       " </div>,\n",
       " <div class=\"box adopt\">\n",
       " <a class=\"more-info\" href=\"sparrow.html\"><img class=\"headshot\" src=\"sparrow.png\"/></a>\n",
       " <p>Captain Sparrow</p>\n",
       " </div>]"
      ]
     },
     "execution_count": 16,
     "metadata": {},
     "output_type": "execute_result"
    }
   ],
   "source": [
    "soup.find_all(attrs={'class': 'box adopt'})"
   ]
  },
  {
   "cell_type": "markdown",
   "metadata": {},
   "source": [
    "Using a function to find tags with complicated requirements:"
   ]
  },
  {
   "cell_type": "code",
   "execution_count": 17,
   "metadata": {},
   "outputs": [],
   "source": [
    "#def shortcut(tag):\n",
    "    #return tag.attr('class') == \"headshot\"\n",
    "\n",
    "#soup.find_all(shortcut)"
   ]
  },
  {
   "cell_type": "markdown",
   "metadata": {},
   "source": [
    "Selecting tags in BeautifulSoup using CSS indicators:"
   ]
  },
  {
   "cell_type": "code",
   "execution_count": 18,
   "metadata": {},
   "outputs": [
    {
     "data": {
      "text/plain": [
       "[<a class=\"more-info\" href=\"aesop.html\"><img class=\"headshot\" src=\"aesop.png\"/></a>,\n",
       " <a class=\"more-info\" href=\"caesar.html\"><img class=\"headshot\" src=\"caesar.png\"/></a>,\n",
       " <a class=\"more-info\" href=\"sulla.html\"><img class=\"headshot\" src=\"sulla.png\"/></a>,\n",
       " <a class=\"more-info\" href=\"spyro.html\"><img class=\"headshot\" src=\"spyro.png\"/></a>,\n",
       " <a class=\"more-info\" href=\"zelda.html\"><img class=\"headshot\" src=\"zelda.png\"/></a>,\n",
       " <a class=\"more-info\" href=\"bandicoot.html\"><img class=\"headshot\" src=\"bandicoot.png\"/></a>,\n",
       " <a class=\"more-info\" href=\"hal.html\"><img class=\"headshot\" src=\"hal.png\"/></a>,\n",
       " <a class=\"more-info\" href=\"mock.html\"><img class=\"headshot\" src=\"mock.png\"/></a>,\n",
       " <a class=\"more-info\" href=\"sparrow.html\"><img class=\"headshot\" src=\"sparrow.png\"/></a>]"
      ]
     },
     "execution_count": 18,
     "metadata": {},
     "output_type": "execute_result"
    }
   ],
   "source": [
    "soup.select('.more-info')"
   ]
  },
  {
   "cell_type": "markdown",
   "metadata": {},
   "source": [
    "Retriving all the text in the HTML cite we're analysing, seperated by a comma( , ):"
   ]
  },
  {
   "cell_type": "code",
   "execution_count": 19,
   "metadata": {
    "scrolled": false
   },
   "outputs": [
    {
     "data": {
      "text/plain": [
       "\"\\n , \\n , \\n , \\n , Turtle Shellter , \\n , \\n , \\n , \\n , \\n , \\n , The Shellter , \\n , The #1 Turtle Adoption website! , \\n , \\n , \\n , Click to learn more about each turtle , \\n , \\n , \\n , \\n , \\n , Aesop , \\n , \\n , \\n , \\n , Caesar , \\n , \\n , \\n , \\n , Sulla , \\n , \\n , \\n , \\n , Spyro , \\n , \\n , \\n , \\n , Zelda , \\n , \\n , \\n , \\n , Bandicoot , \\n , \\n , \\n , \\n , Hal , \\n , \\n , \\n , \\n , Mock , \\n , \\n , \\n , \\n , Captain Sparrow , \\n , \\n , \\n , (function(){window['__CF$cv$params']={r:'71f151194e569e68',m:'G0b63oj3Z.0RzMFdEpBeEVzgxMsg.CiKizV4LfEftVY-1655862455-0-AdGim3Opz2xErmCuUNUlBjlKl4mltdLv7jmrMt46jH/smYjYBrVDOvr9uCOnkZQuIbob+oeMGEAWJUprOsNd4ICXVbLLroPxafpZAYqa8+0bjNSGGJTqv+3j2BhdZeTyE6ZykM5W0Dm9GkGhe+LE72qlg3yiOO5gEKLPlpoPyQoW',s:[0x8b5ca4c425,0xacb994d00f],}})(); , \\n , \\n\""
      ]
     },
     "execution_count": 19,
     "metadata": {},
     "output_type": "execute_result"
    }
   ],
   "source": [
    "soup.get_text(' , ')"
   ]
  },
  {
   "cell_type": "markdown",
   "metadata": {},
   "source": [
    "#### We will now be converting our scrapped data into a DataSet that can be manipulated for analysis:"
   ]
  },
  {
   "cell_type": "markdown",
   "metadata": {},
   "source": [
    "The following is example code that I derived from the CodeAcedemy module on Webscraping. Continue onto the next set of code to see my personal application of this technique:"
   ]
  },
  {
   "cell_type": "code",
   "execution_count": 20,
   "metadata": {},
   "outputs": [],
   "source": [
    "# Example Code from CodeAcademy on how to use BeautufulSoup with Python:\n",
    "\n",
    "example = \"\"\"import requests\n",
    "from bs4 import BeautifulSoup\n",
    "import pandas as pd\n",
    "\n",
    "prefix = \"https://content.codecademy.com/courses/beautifulsoup/\"\n",
    "webpage_response = requests.get('https://content.codecademy.com/courses/beautifulsoup/shellter.html')\n",
    "\n",
    "webpage = webpage_response.content\n",
    "soup = BeautifulSoup(webpage, \"html.parser\")\n",
    "\n",
    "turtle_links = soup.find_all(\"a\")\n",
    "links = []\n",
    "#go through all of the a tags and get the links associated with them\"\n",
    "for a in turtle_links:\n",
    "  links.append(prefix+a[\"href\"])\n",
    "    \n",
    "#Define turtle_data:\n",
    "turtle_data = {}\n",
    "\n",
    "#follow each link:\n",
    "for link in links:\n",
    "  webpage = requests.get(link)\n",
    "  turtle = BeautifulSoup(webpage.content, \"html.parser\")\n",
    "  turtle_name = turtle.select(\".name\")[0].get_text()\n",
    "  \n",
    "  stats = turtle.find(\"ul\")\n",
    "  stats_text = stats.get_text(\"|\")\n",
    "  turtle_data[turtle_name] = stats_text.split(\"|\")\n",
    "\n",
    "\n",
    "turtle_df = pd.DataFrame(turtle_data)\n",
    "\n",
    "print(turtle_df) \"\"\""
   ]
  },
  {
   "cell_type": "markdown",
   "metadata": {},
   "source": [
    "We will now be setting variables for creating the tables for our dataframe. Then we will piece it together and print out our final product:"
   ]
  },
  {
   "cell_type": "code",
   "execution_count": 58,
   "metadata": {},
   "outputs": [],
   "source": [
    "table = soup.find('body')\n",
    "table_rows = table.find_all('div', attrs={'class': 'box adopt'})"
   ]
  },
  {
   "cell_type": "code",
   "execution_count": 72,
   "metadata": {},
   "outputs": [],
   "source": [
    "storage = []\n",
    "for i in table_rows:\n",
    "    p = i.find('p')\n",
    "    row = p.text\n",
    "    storage.append(row)"
   ]
  },
  {
   "cell_type": "code",
   "execution_count": 73,
   "metadata": {},
   "outputs": [
    {
     "name": "stdout",
     "output_type": "stream",
     "text": [
      "['Aesop', 'Caesar', 'Sulla', 'Spyro', 'Zelda', 'Bandicoot', 'Hal', 'Mock', 'Captain Sparrow']\n"
     ]
    }
   ],
   "source": [
    "print(storage)"
   ]
  },
  {
   "cell_type": "markdown",
   "metadata": {},
   "source": [
    "Above is the list of turtles that we will now convert to a modest dataframe with a column above the list of names:"
   ]
  },
  {
   "cell_type": "code",
   "execution_count": 84,
   "metadata": {},
   "outputs": [],
   "source": [
    "dataframe = {}"
   ]
  },
  {
   "cell_type": "code",
   "execution_count": 86,
   "metadata": {},
   "outputs": [],
   "source": [
    "import pandas as pd"
   ]
  },
  {
   "cell_type": "code",
   "execution_count": 87,
   "metadata": {
    "scrolled": true
   },
   "outputs": [],
   "source": [
    "df = pd.DataFrame(dataframe)"
   ]
  },
  {
   "cell_type": "code",
   "execution_count": 88,
   "metadata": {},
   "outputs": [
    {
     "data": {
      "text/html": [
       "<div>\n",
       "<style scoped>\n",
       "    .dataframe tbody tr th:only-of-type {\n",
       "        vertical-align: middle;\n",
       "    }\n",
       "\n",
       "    .dataframe tbody tr th {\n",
       "        vertical-align: top;\n",
       "    }\n",
       "\n",
       "    .dataframe thead th {\n",
       "        text-align: right;\n",
       "    }\n",
       "</style>\n",
       "<table border=\"1\" class=\"dataframe\">\n",
       "  <thead>\n",
       "    <tr style=\"text-align: right;\">\n",
       "      <th></th>\n",
       "    </tr>\n",
       "  </thead>\n",
       "  <tbody>\n",
       "  </tbody>\n",
       "</table>\n",
       "</div>"
      ],
      "text/plain": [
       "Empty DataFrame\n",
       "Columns: []\n",
       "Index: []"
      ]
     },
     "execution_count": 88,
     "metadata": {},
     "output_type": "execute_result"
    }
   ],
   "source": [
    "df.head()"
   ]
  },
  {
   "cell_type": "code",
   "execution_count": 89,
   "metadata": {},
   "outputs": [],
   "source": [
    "df = df.assign(names= storage)"
   ]
  },
  {
   "cell_type": "markdown",
   "metadata": {},
   "source": [
    "#### We now have our very modest DataFrame of Turtle names that we were able to scrape from the web!"
   ]
  },
  {
   "cell_type": "code",
   "execution_count": 91,
   "metadata": {},
   "outputs": [
    {
     "data": {
      "text/html": [
       "<div>\n",
       "<style scoped>\n",
       "    .dataframe tbody tr th:only-of-type {\n",
       "        vertical-align: middle;\n",
       "    }\n",
       "\n",
       "    .dataframe tbody tr th {\n",
       "        vertical-align: top;\n",
       "    }\n",
       "\n",
       "    .dataframe thead th {\n",
       "        text-align: right;\n",
       "    }\n",
       "</style>\n",
       "<table border=\"1\" class=\"dataframe\">\n",
       "  <thead>\n",
       "    <tr style=\"text-align: right;\">\n",
       "      <th></th>\n",
       "      <th>names</th>\n",
       "    </tr>\n",
       "  </thead>\n",
       "  <tbody>\n",
       "    <tr>\n",
       "      <th>0</th>\n",
       "      <td>Aesop</td>\n",
       "    </tr>\n",
       "    <tr>\n",
       "      <th>1</th>\n",
       "      <td>Caesar</td>\n",
       "    </tr>\n",
       "    <tr>\n",
       "      <th>2</th>\n",
       "      <td>Sulla</td>\n",
       "    </tr>\n",
       "    <tr>\n",
       "      <th>3</th>\n",
       "      <td>Spyro</td>\n",
       "    </tr>\n",
       "    <tr>\n",
       "      <th>4</th>\n",
       "      <td>Zelda</td>\n",
       "    </tr>\n",
       "    <tr>\n",
       "      <th>5</th>\n",
       "      <td>Bandicoot</td>\n",
       "    </tr>\n",
       "    <tr>\n",
       "      <th>6</th>\n",
       "      <td>Hal</td>\n",
       "    </tr>\n",
       "    <tr>\n",
       "      <th>7</th>\n",
       "      <td>Mock</td>\n",
       "    </tr>\n",
       "    <tr>\n",
       "      <th>8</th>\n",
       "      <td>Captain Sparrow</td>\n",
       "    </tr>\n",
       "  </tbody>\n",
       "</table>\n",
       "</div>"
      ],
      "text/plain": [
       "             names\n",
       "0            Aesop\n",
       "1           Caesar\n",
       "2            Sulla\n",
       "3            Spyro\n",
       "4            Zelda\n",
       "5        Bandicoot\n",
       "6              Hal\n",
       "7             Mock\n",
       "8  Captain Sparrow"
      ]
     },
     "execution_count": 91,
     "metadata": {},
     "output_type": "execute_result"
    }
   ],
   "source": [
    "df"
   ]
  }
 ],
 "metadata": {
  "kernelspec": {
   "display_name": "Python 3",
   "language": "python",
   "name": "python3"
  },
  "language_info": {
   "codemirror_mode": {
    "name": "ipython",
    "version": 3
   },
   "file_extension": ".py",
   "mimetype": "text/x-python",
   "name": "python",
   "nbconvert_exporter": "python",
   "pygments_lexer": "ipython3",
   "version": "3.7.6"
  }
 },
 "nbformat": 4,
 "nbformat_minor": 4
}
